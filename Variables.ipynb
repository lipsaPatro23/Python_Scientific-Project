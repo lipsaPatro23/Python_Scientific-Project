{
  "nbformat": 4,
  "nbformat_minor": 0,
  "metadata": {
    "colab": {
      "name": "Variables.ipynb",
      "provenance": [],
      "collapsed_sections": [],
      "authorship_tag": "ABX9TyPcfAFYu2O61hlcKnMAlJ6Q",
      "include_colab_link": true
    },
    "kernelspec": {
      "name": "python3",
      "display_name": "Python 3"
    }
  },
  "cells": [
    {
      "cell_type": "markdown",
      "metadata": {
        "id": "view-in-github",
        "colab_type": "text"
      },
      "source": [
        "<a href=\"https://colab.research.google.com/github/lipsaPatro23/Python_Scientific-Project/blob/main/Variables.ipynb\" target=\"_parent\"><img src=\"https://colab.research.google.com/assets/colab-badge.svg\" alt=\"Open In Colab\"/></a>"
      ]
    },
    {
      "cell_type": "code",
      "metadata": {
        "id": "IoNSXH4LxqLJ",
        "colab": {
          "base_uri": "https://localhost:8080/"
        },
        "outputId": "9195be8a-1885-4343-94c7-d8cb2ab563e7"
      },
      "source": [
        "a = 4\r\n",
        "b = 3\r\n",
        "b\r\n"
      ],
      "execution_count": 25,
      "outputs": [
        {
          "output_type": "execute_result",
          "data": {
            "text/plain": [
              "3"
            ]
          },
          "metadata": {
            "tags": []
          },
          "execution_count": 25
        }
      ]
    },
    {
      "cell_type": "code",
      "metadata": {
        "colab": {
          "base_uri": "https://localhost:8080/"
        },
        "id": "c9JWAx-B2QmI",
        "outputId": "6a6c4675-049f-4434-aaef-edf5b2e8369a"
      },
      "source": [
        "a = 4   # there are called numerical variable or called ints\r\n",
        "b = 3\r\n",
        "print(a)\r\n",
        "print(b)"
      ],
      "execution_count": 26,
      "outputs": [
        {
          "output_type": "stream",
          "text": [
            "4\n",
            "3\n"
          ],
          "name": "stdout"
        }
      ]
    },
    {
      "cell_type": "code",
      "metadata": {
        "colab": {
          "base_uri": "https://localhost:8080/"
        },
        "id": "oEGTfzBp3Pqk",
        "outputId": "2dc3002a-0377-4df5-e10c-b74cda2c35e6"
      },
      "source": [
        "c = 'Hello'  # these are called strings(means groups of characters)\r\n",
        "d = \"world\"\r\n",
        "\r\n",
        "print(c,d)\r\n",
        "print(a,b)"
      ],
      "execution_count": 27,
      "outputs": [
        {
          "output_type": "stream",
          "text": [
            "Hello world\n",
            "4 3\n"
          ],
          "name": "stdout"
        }
      ]
    },
    {
      "cell_type": "code",
      "metadata": {
        "id": "QobemJ_c3sx6"
      },
      "source": [
        "# this hash sign is called comment and  ignores the line and do not run it \r\n",
        "#single letter variables are not scaleable, we should use informative variable name.\r\n",
        "data2plot = 3\r\n",
        "filterOrder = 2048\r\n",
        "#no spaces but can use underscores (no alfa_numeric character,no special charcter)\r\n",
        "# no numbers at the start of the variable\r\n"
      ],
      "execution_count": 28,
      "outputs": []
    },
    {
      "cell_type": "code",
      "metadata": {
        "colab": {
          "base_uri": "https://localhost:8080/"
        },
        "id": "Rmu9h6Ak5IDd",
        "outputId": "02a0a70b-fe27-4774-cd4f-5f22f8acda45"
      },
      "source": [
        "# multiple assignment is good but not recommended with more variables\r\n",
        "\r\n",
        "f,g = 10,2\r\n",
        "print(f,g)"
      ],
      "execution_count": 29,
      "outputs": [
        {
          "output_type": "stream",
          "text": [
            "10 2\n"
          ],
          "name": "stdout"
        }
      ]
    },
    {
      "cell_type": "code",
      "metadata": {
        "colab": {
          "base_uri": "https://localhost:8080/"
        },
        "id": "siS4fvlS5zgx",
        "outputId": "fce704f3-2a5f-4e03-8c46-e54073a10079"
      },
      "source": [
        "%whos"
      ],
      "execution_count": 33,
      "outputs": [
        {
          "output_type": "stream",
          "text": [
            "Variable      Type    Data/Info\n",
            "-------------------------------\n",
            "a             int     4\n",
            "b             int     3\n",
            "c             str     Hello\n",
            "d             str     world\n",
            "data2plot     int     3\n",
            "f             int     10\n",
            "filterOrder   int     2048\n",
            "g             int     2\n"
          ],
          "name": "stdout"
        }
      ]
    },
    {
      "cell_type": "code",
      "metadata": {
        "id": "btG2Rb1A7QKO"
      },
      "source": [
        "# Exercise:\r\n",
        "# overwrite a variable with same data type\r\n",
        "# overwrite a variable with diffrent datatype"
      ],
      "execution_count": 34,
      "outputs": []
    },
    {
      "cell_type": "code",
      "metadata": {
        "colab": {
          "base_uri": "https://localhost:8080/"
        },
        "id": "KTrOx__x9H6Y",
        "outputId": "70d1a4fb-460e-46b8-d51e-603137209caa"
      },
      "source": [
        "a = 7 # we can over write a variable with same data type\r\n",
        "d = 'Lipsa'\r\n",
        "print(a)\r\n",
        "print(d)"
      ],
      "execution_count": 38,
      "outputs": [
        {
          "output_type": "stream",
          "text": [
            "7\n",
            "Lipsa\n"
          ],
          "name": "stdout"
        }
      ]
    },
    {
      "cell_type": "code",
      "metadata": {
        "colab": {
          "base_uri": "https://localhost:8080/"
        },
        "id": "rllOE_Gc9sDw",
        "outputId": "99832e2d-96ff-4969-cc12-a416d59a3296"
      },
      "source": [
        "%whos"
      ],
      "execution_count": 39,
      "outputs": [
        {
          "output_type": "stream",
          "text": [
            "Variable      Type    Data/Info\n",
            "-------------------------------\n",
            "a             int     7\n",
            "b             int     3\n",
            "c             str     Hello\n",
            "d             str     Lipsa\n",
            "data2plot     int     3\n",
            "f             int     10\n",
            "filterOrder   int     2048\n",
            "g             int     2\n"
          ],
          "name": "stdout"
        }
      ]
    },
    {
      "cell_type": "code",
      "metadata": {
        "colab": {
          "base_uri": "https://localhost:8080/"
        },
        "id": "2vicjlr19Ocq",
        "outputId": "49da6d6e-1e67-4d26-ffdb-2ea6bd0d7d23"
      },
      "source": [
        "a = \"can overwrite a variable with different data types\"\r\n",
        "d = 9\r\n",
        "\r\n",
        "print(a)\r\n",
        "print(d)"
      ],
      "execution_count": 41,
      "outputs": [
        {
          "output_type": "stream",
          "text": [
            "can overwrite a variable with different data types\n",
            "9\n"
          ],
          "name": "stdout"
        }
      ]
    },
    {
      "cell_type": "code",
      "metadata": {
        "colab": {
          "base_uri": "https://localhost:8080/"
        },
        "id": "PFaWLReb9vvk",
        "outputId": "439da6d8-c8dc-4a21-c0d4-53c5abc26786"
      },
      "source": [
        "%whos"
      ],
      "execution_count": 42,
      "outputs": [
        {
          "output_type": "stream",
          "text": [
            "Variable      Type    Data/Info\n",
            "-------------------------------\n",
            "a             str     can overwrite a variable <...>with different data types\n",
            "b             int     3\n",
            "c             str     Hello\n",
            "d             int     9\n",
            "data2plot     int     3\n",
            "f             int     10\n",
            "filterOrder   int     2048\n",
            "g             int     2\n"
          ],
          "name": "stdout"
        }
      ]
    },
    {
      "cell_type": "code",
      "metadata": {
        "id": "CtzmSbE892ge"
      },
      "source": [
        ""
      ],
      "execution_count": null,
      "outputs": []
    }
  ]
}